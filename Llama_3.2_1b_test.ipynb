{
  "nbformat": 4,
  "nbformat_minor": 0,
  "metadata": {
    "colab": {
      "provenance": [],
      "gpuType": "T4",
      "authorship_tag": "ABX9TyM2/Qj6t0ttIGqzgE/qwN/P",
      "include_colab_link": true
    },
    "kernelspec": {
      "name": "python3",
      "display_name": "Python 3"
    },
    "language_info": {
      "name": "python"
    },
    "accelerator": "GPU"
  },
  "cells": [
    {
      "cell_type": "markdown",
      "metadata": {
        "id": "view-in-github",
        "colab_type": "text"
      },
      "source": [
        "<a href=\"https://colab.research.google.com/github/omkar806/OndeviceLLM/blob/main/Llama_3.2_1b_test.ipynb\" target=\"_parent\"><img src=\"https://colab.research.google.com/assets/colab-badge.svg\" alt=\"Open In Colab\"/></a>"
      ]
    },
    {
      "cell_type": "code",
      "source": [
        "!pip install transformers"
      ],
      "metadata": {
        "colab": {
          "base_uri": "https://localhost:8080/"
        },
        "id": "BqyYRU-lFvXJ",
        "outputId": "09fcdf49-2f98-4dc3-f7bb-862b8463528d"
      },
      "execution_count": null,
      "outputs": [
        {
          "output_type": "stream",
          "name": "stdout",
          "text": [
            "Requirement already satisfied: transformers in /usr/local/lib/python3.10/dist-packages (4.44.2)\n",
            "Requirement already satisfied: filelock in /usr/local/lib/python3.10/dist-packages (from transformers) (3.16.1)\n",
            "Requirement already satisfied: huggingface-hub<1.0,>=0.23.2 in /usr/local/lib/python3.10/dist-packages (from transformers) (0.24.7)\n",
            "Requirement already satisfied: numpy>=1.17 in /usr/local/lib/python3.10/dist-packages (from transformers) (1.26.4)\n",
            "Requirement already satisfied: packaging>=20.0 in /usr/local/lib/python3.10/dist-packages (from transformers) (24.1)\n",
            "Requirement already satisfied: pyyaml>=5.1 in /usr/local/lib/python3.10/dist-packages (from transformers) (6.0.2)\n",
            "Requirement already satisfied: regex!=2019.12.17 in /usr/local/lib/python3.10/dist-packages (from transformers) (2024.9.11)\n",
            "Requirement already satisfied: requests in /usr/local/lib/python3.10/dist-packages (from transformers) (2.32.3)\n",
            "Requirement already satisfied: safetensors>=0.4.1 in /usr/local/lib/python3.10/dist-packages (from transformers) (0.4.5)\n",
            "Requirement already satisfied: tokenizers<0.20,>=0.19 in /usr/local/lib/python3.10/dist-packages (from transformers) (0.19.1)\n",
            "Requirement already satisfied: tqdm>=4.27 in /usr/local/lib/python3.10/dist-packages (from transformers) (4.66.6)\n",
            "Requirement already satisfied: fsspec>=2023.5.0 in /usr/local/lib/python3.10/dist-packages (from huggingface-hub<1.0,>=0.23.2->transformers) (2024.10.0)\n",
            "Requirement already satisfied: typing-extensions>=3.7.4.3 in /usr/local/lib/python3.10/dist-packages (from huggingface-hub<1.0,>=0.23.2->transformers) (4.12.2)\n",
            "Requirement already satisfied: charset-normalizer<4,>=2 in /usr/local/lib/python3.10/dist-packages (from requests->transformers) (3.4.0)\n",
            "Requirement already satisfied: idna<4,>=2.5 in /usr/local/lib/python3.10/dist-packages (from requests->transformers) (3.10)\n",
            "Requirement already satisfied: urllib3<3,>=1.21.1 in /usr/local/lib/python3.10/dist-packages (from requests->transformers) (2.2.3)\n",
            "Requirement already satisfied: certifi>=2017.4.17 in /usr/local/lib/python3.10/dist-packages (from requests->transformers) (2024.8.30)\n"
          ]
        }
      ]
    },
    {
      "cell_type": "code",
      "source": [
        "!huggingface-cli login"
      ],
      "metadata": {
        "colab": {
          "base_uri": "https://localhost:8080/"
        },
        "id": "QvoQUlgLFzRd",
        "outputId": "f68f1c03-6153-408f-96d6-7e0594185bb8"
      },
      "execution_count": null,
      "outputs": [
        {
          "output_type": "stream",
          "name": "stdout",
          "text": [
            "\n",
            "    _|    _|  _|    _|    _|_|_|    _|_|_|  _|_|_|  _|      _|    _|_|_|      _|_|_|_|    _|_|      _|_|_|  _|_|_|_|\n",
            "    _|    _|  _|    _|  _|        _|          _|    _|_|    _|  _|            _|        _|    _|  _|        _|\n",
            "    _|_|_|_|  _|    _|  _|  _|_|  _|  _|_|    _|    _|  _|  _|  _|  _|_|      _|_|_|    _|_|_|_|  _|        _|_|_|\n",
            "    _|    _|  _|    _|  _|    _|  _|    _|    _|    _|    _|_|  _|    _|      _|        _|    _|  _|        _|\n",
            "    _|    _|    _|_|      _|_|_|    _|_|_|  _|_|_|  _|      _|    _|_|_|      _|        _|    _|    _|_|_|  _|_|_|_|\n",
            "\n",
            "    A token is already saved on your machine. Run `huggingface-cli whoami` to get more information or `huggingface-cli logout` if you want to log out.\n",
            "    Setting a new token will erase the existing one.\n",
            "    To login, `huggingface_hub` requires a token generated from https://huggingface.co/settings/tokens .\n",
            "Enter your token (input will not be visible): \n",
            "Add token as git credential? (Y/n) n\n",
            "Token is valid (permission: read).\n",
            "Your token has been saved to /root/.cache/huggingface/token\n",
            "Login successful\n"
          ]
        }
      ]
    },
    {
      "cell_type": "code",
      "execution_count": 4,
      "metadata": {
        "colab": {
          "base_uri": "https://localhost:8080/"
        },
        "id": "6g4yPoUJE3mZ",
        "outputId": "77f47ad9-d59d-4275-d5be-859265192ada"
      },
      "outputs": [
        {
          "output_type": "stream",
          "name": "stderr",
          "text": [
            "Setting `pad_token_id` to `eos_token_id`:128001 for open-end generation.\n"
          ]
        },
        {
          "output_type": "execute_result",
          "data": {
            "text/plain": [
              "[{'generated_text': 'Hi how are you can you generate starter code for build an api in Fastapi\\nBelow is'}]"
            ]
          },
          "metadata": {},
          "execution_count": 4
        }
      ],
      "source": [
        "import transformers\n",
        "import torch\n",
        "\n",
        "model_id = \"meta-llama/Llama-3.2-1B-Instruct\"\n",
        "\n",
        "pipeline = transformers.pipeline(\"text-generation\", model=model_id, model_kwargs={\"torch_dtype\": torch.bfloat16}, device_map=\"auto\")\n"
      ]
    },
    {
      "cell_type": "code",
      "source": [
        "text = \"\"\"\n",
        "Receipt for Your Payment to MYNTRA DESIGNS PVT LIMITED 29-Sep-2019 21:42:05 GMT+05:30 Transaction ID: 28A10944EL9850233 https://www.paypal.com/myaccoun.. 29-Sep-2019 21:42:05 GMT+05:30 Transaction ID: 28A10944EL9850233 Hello Vasundhhara Katoch, You sent a payment of ₹181.15 INR to MYNTRA DESIGNS PVT LIMITED (paypal1@myntra.com) It may take a few moments for this transaction to appear in your account. Merchant MYNTRA DESIGNS PVT LIMITED paypal1@myntra.com Instructions to merchant You haven't entered any instructions. Delivery address – confirmed Vasundhhara Room no. 96, ladies hostel VI, SSN College of engi neering Kanchipuram, Tamil Nadu 603110 India Dispatch details The seller hasn’t provided any dispatch details yet. Description Unit price Qty Amount 112165173352835986701 ₹181.15 INR 1 ₹181.15 INR Subtotal ₹181.15 INR Total ₹181.15 INR Payment ₹181.15 INR Charge will appear on your credit card statement as 'PAYPAL *MYNTRA' Payment sent to paypal1@myntra.com Invoice ID: 112165173352835986701 Issues with this transaction? You have 180 days from the date of the transaction to open a dispute in the Resolution Center. Questions? Go to the Help Center at www.paypal.com/in/help. Please do not reply to this email. This mailbox is not monitored and you will not receive a response. For assistance, log in to your PayPal account and click Help in the top right corner of any PayPal page. You can receive plain text emails instead of HTML emails. To change your Notifications preferences, log in to your PayPal account at www.paypal.com/in , go to your Profile, and click My settings . PayPal Services in India are provided by PayPal Payments Private Limited (CIN U74990MH2009PTC194653). Users are advised to read the terms and conditions carefully. PayPal PPX001066:1.2:b5877c1f0f890\n",
        "\"\"\""
      ],
      "metadata": {
        "id": "NKSwmtRmKH7n"
      },
      "execution_count": 18,
      "outputs": []
    },
    {
      "cell_type": "code",
      "source": [
        "prompt = \"\"\"\n",
        "   You are an AI assistant for extracting specific data points like company_name , product_company_name , product_names[as list of strings] ,product_types : {\"product_name_1 : \"type\"}, total_cost , date_of_purchase .  From the raw_text give below .\n",
        "  raw_text \"\"\"+text+\"\\n \\n\" + \"\"\"\n",
        "  covert the above into a json object strictly . Strictly follow all the instruction above.\n",
        "  Strictly give the output for only the data points mentioned above.\n",
        "  Strictly give the out of only and only json string and not any other text.\n",
        "  Strictly give the output as a json string not as ```json.\n",
        "\"\"\""
      ],
      "metadata": {
        "id": "SD-Vw6LnInq2"
      },
      "execution_count": 33,
      "outputs": []
    },
    {
      "cell_type": "code",
      "source": [
        "messages = [\n",
        "    {\"role\": \"user\", \"content\": prompt}\n",
        "]"
      ],
      "metadata": {
        "id": "qwazyXp5J5Tj"
      },
      "execution_count": 34,
      "outputs": []
    },
    {
      "cell_type": "code",
      "source": [
        "output = pipeline(messages , max_new_tokens = 512)\n",
        "print(output[0]['generated_text'][-1])"
      ],
      "metadata": {
        "colab": {
          "base_uri": "https://localhost:8080/"
        },
        "id": "D39o8sf-H3Yn",
        "outputId": "c806787f-9f80-4c73-fc50-8fb1d01b9289"
      },
      "execution_count": 35,
      "outputs": [
        {
          "output_type": "stream",
          "name": "stderr",
          "text": [
            "Setting `pad_token_id` to `eos_token_id`:128001 for open-end generation.\n"
          ]
        },
        {
          "output_type": "stream",
          "name": "stdout",
          "text": [
            "{'role': 'assistant', 'content': '{\\n    \"company_name\": \"MYNTRA DESIGNS PVT LIMITED\",\\n    \"product_company_name\": \"MYNTRA DESIGNS PVT LIMITED\",\\n    \"product_names\": [\"MYNTRA DESIGNS PVT LIMITED\"],\\n    \"product_types\": {\"paypal1@myntra.com\": \"PAYPAL\"},\\n    \"total_cost\": 181.15,\\n    \"date_of_purchase\": \"29-Sep-2019 21:42:05 GMT+05:30\"\\n}'}\n"
          ]
        }
      ]
    },
    {
      "cell_type": "code",
      "source": [],
      "metadata": {
        "id": "GNnJsfDhIiLP"
      },
      "execution_count": null,
      "outputs": []
    }
  ]
}